{
 "cells": [
  {
   "cell_type": "code",
   "execution_count": 1,
   "metadata": {
    "collapsed": true
   },
   "outputs": [],
   "source": [
    "import csv\n",
    "import cv2\n",
    "import numpy as np\n",
    "import sklearn"
   ]
  },
  {
   "cell_type": "code",
   "execution_count": 2,
   "metadata": {},
   "outputs": [
    {
     "name": "stdout",
     "output_type": "stream",
     "text": [
      "17372 13897 3475\n"
     ]
    }
   ],
   "source": [
    "#Load data\n",
    "#Convention used - data_folders is an array of folders containing a file named 'driving_log.csv' and an IMG folder with\n",
    "#a simulation images in it. This correlated to the output of the simulator for this project. It makes it easy to add\n",
    "#and remove simulations from the model.\n",
    "data_folders = [ \"./data/original_data/\", \"./data/track_1_lap_1_forward/\",\n",
    "                \"./data/track_1_lap_1_backward/\", \"./data/track_1_turns_data/\",\n",
    "                \"./data/track_1_turns_extra/\", \"./data/track_1_turns_extra1/\",\n",
    "                \"./data/track_1_turns_extra2/\", \"./data/track_1_lap_2_forward/\",\n",
    "                \"./data/track_1_turns_extra3/\", \"./data/track_1_lap_3_forward/\"]\n",
    "data_file_name = \"driving_log.csv\"\n",
    "\n",
    "#Opening up the driving_log.csv and reading all image paths into 'samples' array.\n",
    "samples = []\n",
    "for folder in data_folders:\n",
    "    lines = []\n",
    "    with open(folder + data_file_name) as csvfile:\n",
    "        reader = csv.reader(csvfile)\n",
    "        for line in reader:\n",
    "            samples.append(line)\n",
    "\n",
    "#We split the data, still without loading it (just the paths) to training and validation sets.\n",
    "from sklearn.model_selection import train_test_split\n",
    "train_samples, validation_samples = train_test_split(samples, test_size=0.2)\n",
    "\n",
    "#Print sizes for sanity\n",
    "print(len(samples), len(train_samples), len(validation_samples))\n"
   ]
  },
  {
   "cell_type": "code",
   "execution_count": 3,
   "metadata": {
    "collapsed": true
   },
   "outputs": [],
   "source": [
    "from sklearn.utils import shuffle\n",
    "#Create a generator function which yields the images into memory upon need in batches.\n",
    "#The generator does: 1) Shuffle the data 2)Read the image 3) add augmented image per image loaded to the set\n",
    "#The generator returns training and validation set updates with current batch samples.\n",
    "def generator(samples, batch_size=32):\n",
    "    num_samples = len(samples)\n",
    "    while 1: # Loop forever so the generator never terminates\n",
    "        shuffle(samples)\n",
    "        for offset in range(0, num_samples, batch_size):\n",
    "            batch_samples = samples[offset:offset+batch_size]\n",
    "\n",
    "            images = []\n",
    "            angles = []\n",
    "            for batch_sample in batch_samples:\n",
    "                #Calculate name properly, the first 'if' deals with a relative path beginning with 'IMG' in the csv\n",
    "                #The 'else' clause deals with an absolute path in the 'csv'\n",
    "                #We assume everything is under 'data' folder relative to current location.\n",
    "                name = \"./data\"\n",
    "                if (batch_sample[0].startswith(\"IMG\")):\n",
    "                    name += \"/original_data\" \n",
    "                else: \n",
    "                    name += \"/\" + batch_sample[0].split('/')[-3]\n",
    "                    \n",
    "                name += '/IMG/'+ batch_sample[0].split('/')[-1]\n",
    "                \n",
    "                #print(name)\n",
    "                #Read image and angle\n",
    "                center_image = cv2.imread(name)\n",
    "                center_angle = float(batch_sample[3])\n",
    "                #Add image and angle\n",
    "                images.append(center_image)\n",
    "                angles.append(center_angle)\n",
    "                #Add augmented version of them\n",
    "                images.append(cv2.flip(center_image,1))\n",
    "                angles.append(center_angle * -1.0)\n",
    "\n",
    "            # trim image to only see section with road\n",
    "            X_train = np.array(images)\n",
    "            y_train = np.array(angles)\n",
    "            yield sklearn.utils.shuffle(X_train, y_train)\n",
    "\n",
    "# compile and train the model using the generator function\n",
    "train_generator = generator(train_samples, batch_size=32)\n",
    "validation_generator = generator(validation_samples, batch_size=32)\n",
    "\n"
   ]
  },
  {
   "cell_type": "code",
   "execution_count": 4,
   "metadata": {
    "collapsed": true
   },
   "outputs": [],
   "source": [
    "ch, row, col = 3, 160, 320 "
   ]
  },
  {
   "cell_type": "code",
   "execution_count": 10,
   "metadata": {},
   "outputs": [
    {
     "name": "stdout",
     "output_type": "stream",
     "text": [
      "Epoch 1/4\n",
      "13842/13897 [============================>.] - ETA: 0s - loss: 0.0280"
     ]
    },
    {
     "name": "stderr",
     "output_type": "stream",
     "text": [
      "/home/carnd/anaconda3/envs/carnd-term1/lib/python3.5/site-packages/keras/engine/training.py:1569: UserWarning: Epoch comprised more than `samples_per_epoch` samples, which might affect learning results. Set `samples_per_epoch` correctly to avoid this warning.\n",
      "  warnings.warn('Epoch comprised more than '\n"
     ]
    },
    {
     "name": "stdout",
     "output_type": "stream",
     "text": [
      "13906/13897 [==============================] - 32s - loss: 0.0279 - val_loss: 0.0252\n",
      "Epoch 2/4\n",
      "13952/13897 [==============================] - 32s - loss: 0.0259 - val_loss: 0.0285\n",
      "Epoch 3/4\n",
      "13906/13897 [==============================] - 32s - loss: 0.0237 - val_loss: 0.0231\n",
      "Epoch 4/4\n",
      "13952/13897 [==============================] - 32s - loss: 0.0248 - val_loss: 0.0230\n"
     ]
    }
   ],
   "source": [
    "from keras.models import Sequential\n",
    "from keras.layers import Flatten, Dense, Lambda, Cropping2D, Convolution2D, Dropout\n",
    "#The model architecture, we're following the architecture as seen in class.\n",
    "#Preprocessing: normalizing the values and cropping each image\n",
    "#Regularization: using several dropout layers with 0.1 percent hyperparameter\n",
    "#Architecture: 4Conv layers (with dropout between) followed by 4 FC layers\n",
    "model = Sequential()\n",
    "model.add(Lambda(lambda x: (x / 255.0) - 0.5, input_shape=(row, col, ch),\n",
    "        output_shape=(row, col, ch)))\n",
    "model.add(Cropping2D(cropping=((70,25),(0,0))))\n",
    "model.add(Convolution2D(24,5,5, subsample=(2,2), activation=\"relu\"))\n",
    "model.add(Dropout(0.1))\n",
    "model.add(Convolution2D(36,5,5, subsample=(2,2), activation=\"relu\"))\n",
    "model.add(Dropout(0.1))\n",
    "model.add(Convolution2D(48,5,5, subsample=(2,2), activation=\"relu\"))\n",
    "model.add(Dropout(0.1))\n",
    "model.add(Convolution2D(64,3,3, activation=\"relu\"))\n",
    "model.add(Convolution2D(64,3,3, activation=\"relu\"))\n",
    "model.add(Flatten())\n",
    "model.add(Dense(100))\n",
    "model.add(Dense(50))\n",
    "model.add(Dense(10))\n",
    "model.add(Dense(1))\n",
    "\n",
    "#Defining the loss function as mse (as we're doing regression) and using 'adam' optimizer \n",
    "model.compile(loss='mse', optimizer='adam')\n",
    "#Fitting the model, using 4 epochs and generator for efficiency purposes.\n",
    "history_object = model.fit_generator(train_generator, samples_per_epoch= len(train_samples), verbose=1,\n",
    "                    validation_data=validation_generator, nb_val_samples=len(validation_samples), nb_epoch=4)\n",
    "\n",
    "#Saving the model\n",
    "model.save('model.h5')"
   ]
  },
  {
   "cell_type": "code",
   "execution_count": 11,
   "metadata": {},
   "outputs": [
    {
     "name": "stdout",
     "output_type": "stream",
     "text": [
      "dict_keys(['loss', 'val_loss'])\n"
     ]
    },
    {
     "data": {
      "image/png": "[encoded data removed]",
      "text/plain": [
       "<matplotlib.figure.Figure at 0x7f91847b9f28>"
      ]
     },
     "metadata": {},
     "output_type": "display_data"
    }
   ],
   "source": [
    "import matplotlib.pyplot as plt\n",
    "\n",
    "### print the keys contained in the history object\n",
    "print(history_object.history.keys())\n",
    "\n",
    "### plot the training and validation loss for each epoch\n",
    "plt.plot(history_object.history['loss'])\n",
    "plt.plot(history_object.history['val_loss'])\n",
    "plt.title('model mean squared error loss')\n",
    "plt.ylabel('mean squared error loss')\n",
    "plt.xlabel('epoch')\n",
    "plt.legend(['training set', 'validation set'], loc='upper right')\n",
    "plt.show()"
   ]
  },
  {
   "cell_type": "code",
   "execution_count": null,
   "metadata": {
    "collapsed": true
   },
   "outputs": [],
   "source": []
  },
  {
   "cell_type": "code",
   "execution_count": null,
   "metadata": {
    "collapsed": true
   },
   "outputs": [],
   "source": []
  }
 ],
 "metadata": {
  "kernelspec": {
   "display_name": "Python 3",
   "language": "python",
   "name": "python3"
  },
  "language_info": {
   "codemirror_mode": {
    "name": "ipython",
    "version": 3
   },
   "file_extension": ".py",
   "mimetype": "text/x-python",
   "name": "python",
   "nbconvert_exporter": "python",
   "pygments_lexer": "ipython3",
   "version": "3.5.2"
  },
  "widgets": {
   "state": {},
   "version": "1.1.2"
  }
 },
 "nbformat": 4,
 "nbformat_minor": 2
}
